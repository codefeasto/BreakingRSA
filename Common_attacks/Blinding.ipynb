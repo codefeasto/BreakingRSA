{
 "cells": [
  {
   "cell_type": "markdown",
   "id": "a1900309",
   "metadata": {},
   "source": [
    "## Blinding\n",
    "\n",
    "Let $\\langle N,d \\rangle$ be a private key. Let's suppose that one can sign arbitrary messages, except from some message, say $ M \\in Z^*_{n}$.   \n",
    "One can still sign $ M^{'} \\equiv r^eM \\mod N $, producing the following signature:  \n",
    "$S^{'} \\equiv (M^{'})^d \\equiv  M^d r \\mod N $.  \n",
    "It is obvious that we can recover M's signature by diving by r.  "
   ]
  },
  {
   "cell_type": "code",
   "execution_count": 4,
   "id": "4d0edc02",
   "metadata": {},
   "outputs": [],
   "source": [
    "def bytes_to_long(b):\n",
    "    return int(b.hex(), base=16)\n",
    "\n",
    "def long_to_bytes(l):\n",
    "    return bytes.fromhex(hex(l)[2:])"
   ]
  },
  {
   "cell_type": "code",
   "execution_count": 5,
   "id": "d948dad5",
   "metadata": {},
   "outputs": [],
   "source": [
    "p = random_prime(2^1024)\n",
    "q = random_prime(2^1024)\n",
    "\n",
    "n = p * q\n",
    "\n",
    "\n",
    "e = 0x10001\n",
    "d = pow(e, -1, (p -1) * (q - 1))\n",
    "\n",
    "\n",
    "M = bytes_to_long(b'Secret Message')\n"
   ]
  },
  {
   "cell_type": "code",
   "execution_count": 7,
   "id": "b074c1fb",
   "metadata": {},
   "outputs": [],
   "source": [
    "r = random_prime(2^100) #probabilistic guarantee that it's invertible\n",
    "\n",
    "M_prime = (M * r^e) % n\n",
    "\n",
    "S_prime = pow(M_prime, d, n)\n",
    "S = pow(M, d, n)\n",
    "\n",
    "\n",
    "assert (S_prime * pow(r, -1, n)) % n == S"
   ]
  }
 ],
 "metadata": {
  "kernelspec": {
   "display_name": "SageMath 10.2",
   "language": "sage",
   "name": "sagemath"
  },
  "language_info": {
   "codemirror_mode": {
    "name": "ipython",
    "version": 3
   },
   "file_extension": ".py",
   "mimetype": "text/x-python",
   "name": "python",
   "nbconvert_exporter": "python",
   "pygments_lexer": "ipython3",
   "version": "3.9.2"
  }
 },
 "nbformat": 4,
 "nbformat_minor": 5
}
