{
 "cells": [
  {
   "cell_type": "markdown",
   "id": "2b4b7ede",
   "metadata": {},
   "source": [
    "## Recovering $p,q$ having $d$\n",
    "\n",
    "As stated in fact 1, for a public key $ \\langle N, e \\rangle $ given the private key $d$, one can effictively recover the factorisation of N.\n",
    "\n",
    "Notice that  \n",
    "$k = ed - 1$ and $ k | φ(N) $, which is even.\n",
    "Therefore $g_1 = g^{k/2}$ is a square root of unity for $g \\in \\mathbb{Z^{*}_n}$. \n",
    "\n",
    "By applying the CRT it is evident that $g_1 \\equiv \\pm 1 \\mod q, g_1 \\equiv \\pm 1 \\mod p $ and thus 2 out of the possible 4 roots reveal the factorization of $N$. \n",
    "\n",
    "According to the paper (proof of fact 1 - page 3) , for a random choice of $g$ the probability that any element of the sequence $g^{k/{2^t}} \\equiv -1 \\mod p$ (or mod q) is $50\\%$."
   ]
  },
  {
   "cell_type": "code",
   "execution_count": 3,
   "id": "1fdd6c4e",
   "metadata": {},
   "outputs": [],
   "source": [
    "p = random_prime(2^1024)\n",
    "q = random_prime(2^1024)\n",
    "\n",
    "n = p * q\n",
    "\n",
    "e = 0x10001\n",
    "\n",
    "phi = (p - 1)*(q - 1)\n",
    "\n",
    "d = pow(e, -1, phi)"
   ]
  },
  {
   "cell_type": "code",
   "execution_count": null,
   "id": "6c6c81e5",
   "metadata": {},
   "outputs": [],
   "source": [
    "k = e*d - 1\n",
    "\n",
    "pp = 1\n",
    "for g in range(2,2**16):\n",
    "\n",
    "    k_t = k\n",
    "    while k_t % 2 == 0:\n",
    "        k_t //= 2\n",
    "        rt = pow(g,k_t,n)\n",
    "        \n",
    "        pp = gcd(rt - 1, n)\n",
    "        \n",
    "        if pp > 1 and pp != n:\n",
    "            print(pp)\n",
    "            break\n",
    "    if pp > 1 and pp != n:\n",
    "        break\n",
    "\n",
    "qq = n // pp\n",
    "\n",
    "print('[+] Recovered the factorisation of N')\n",
    "print(f'{pp=} \\n {qq=}')\n"
   ]
  }
 ],
 "metadata": {
  "kernelspec": {
   "display_name": "SageMath 10.2",
   "language": "sage",
   "name": "sagemath"
  },
  "language_info": {
   "codemirror_mode": {
    "name": "ipython",
    "version": 3
   },
   "file_extension": ".py",
   "mimetype": "text/x-python",
   "name": "python",
   "nbconvert_exporter": "python",
   "pygments_lexer": "ipython3",
   "version": "3.9.2"
  }
 },
 "nbformat": 4,
 "nbformat_minor": 5
}
