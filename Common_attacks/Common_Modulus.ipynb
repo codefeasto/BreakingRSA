{
 "cells": [
  {
   "cell_type": "markdown",
   "id": "ec08cabb",
   "metadata": {},
   "source": [
    "## Common Modulus\n",
    "\n",
    "Suppose there is a message $m$ and it is encrypted separately using keys $\\langle e_1, N \\rangle$ and $\\langle e_2, N\\rangle$ with $ gcd(e_1, e_2) = 1 $\n",
    "\n",
    "Then we can apply the Extended Eucledean Algorithm (XGCD) to find the bezout coefficients for $e_1$ and $e_2$.\n",
    "Since $e_1$ and $e_2$ are coprime, we can get $ a_1e_1 + a_2e_2 = 1$.\n",
    "\n",
    "But notice that we have:   \n",
    "$c_1 = m^{e_1} \\mod n$ and   \n",
    "$c_2 = m^{e_2} \\mod n$   \n",
    "  \n",
    "So we can produce  \n",
    "$  m^{e_1a_1} \\mod n $ and    \n",
    "$  m^{e_2a_2} \\mod n $\n",
    "\n",
    "and thus,  \n",
    "\n",
    "$ m^{e_1a_1 + e_2a_2} \\equiv m^{1} \\mod n$\n",
    "\n",
    "Since I have already implemented XGCD for the basic Hastad attack, I will utilize sage's built-in implementation for this proof-of-concept."
   ]
  },
  {
   "cell_type": "code",
   "execution_count": 3,
   "id": "b1f5a139",
   "metadata": {},
   "outputs": [],
   "source": [
    "from os import urandom\n",
    "\n",
    "def bytes_to_long(bts):\n",
    "    return int(bts.hex(), base=16)\n",
    "\n",
    "def long_to_bytes(lng):\n",
    "    return bytes.fromhex(hex(lng)[2:])"
   ]
  },
  {
   "cell_type": "code",
   "execution_count": 7,
   "id": "7c73e4f9",
   "metadata": {},
   "outputs": [],
   "source": [
    "p = random_prime(2**1024)\n",
    "q = random_prime(2**1024)\n",
    "\n",
    "n = p * q\n",
    "\n",
    "\n",
    "e1 = random_prime(2**32)\n",
    "e2 = random_prime(2**32)\n",
    "\n",
    "assert gcd(e1, e2) == 1\n",
    "\n",
    "m = bytes_to_long(b'Well hidden message!!!! ' + urandom(100))\n",
    "\n",
    "c1 = pow(m, e1, n)\n",
    "c2 = pow(m, e2, n)"
   ]
  },
  {
   "cell_type": "markdown",
   "id": "da44da08",
   "metadata": {},
   "source": [
    "#### Attack"
   ]
  },
  {
   "cell_type": "code",
   "execution_count": null,
   "id": "703a30f3",
   "metadata": {},
   "outputs": [],
   "source": [
    "_, a1, a2 = xgcd(e1, e2)\n",
    "\n",
    "k1 = pow(c1, a1, n)\n",
    "k2 = pow(c2, a2, n)\n",
    "\n",
    "pt = (k1 * k2) % n\n",
    "print(long_to_bytes(pt))\n"
   ]
  }
 ],
 "metadata": {
  "kernelspec": {
   "display_name": "SageMath 10.2",
   "language": "sage",
   "name": "sagemath"
  },
  "language_info": {
   "codemirror_mode": {
    "name": "ipython",
    "version": 3
   },
   "file_extension": ".py",
   "mimetype": "text/x-python",
   "name": "python",
   "nbconvert_exporter": "python",
   "pygments_lexer": "ipython3",
   "version": "3.9.2"
  }
 },
 "nbformat": 4,
 "nbformat_minor": 5
}
