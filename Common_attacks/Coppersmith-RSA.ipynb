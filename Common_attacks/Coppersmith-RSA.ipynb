{
 "cells": [
  {
   "cell_type": "markdown",
   "id": "f053280e",
   "metadata": {},
   "source": [
    "## Coppersmith's Attack (LLL) on a partially known message\n",
    "\n",
    "Suppose $m = m^{'} + x_0$, if x_0 is small we can recover it.   \n",
    "In particular, $ |x_0| \\le \\frac{N^{1/e}}{2} $ needs to hold.   \n",
    "For example, when $e = 3$, $x_0$ needs to be $ \\sim 1/3$ of $\\log_2{N}$ (the bits of N).   \n",
    "It is evident, that $e$ needs to be relatively small for this attack to work.\n",
    "\n",
    "We can take $ f(x) = (m^{'} + x)^e -c \\mod N $ and find a polynomial that is guaranteed to have $x_0$ as a root over $\\mathbb{Z}$.\n",
    "What is unique about Coppersmith is that we can traverse through an exponential search space in polynomial running time (complexity of LLL).\n",
    "\n",
    "https://eprint.iacr.org/2023/032.pdf (5.1.1)"
   ]
  },
  {
   "cell_type": "code",
   "execution_count": 1,
   "id": "f4ceca76",
   "metadata": {},
   "outputs": [],
   "source": [
    "def bytes_to_long(b):\n",
    "    return int(b.hex(), base=16)\n",
    "\n",
    "def long_to_bytes(l):\n",
    "    return bytes.fromhex(hex(l)[2:])"
   ]
  },
  {
   "cell_type": "code",
   "execution_count": 2,
   "id": "87042bfe",
   "metadata": {},
   "outputs": [
    {
     "name": "stdout",
     "output_type": "stream",
     "text": [
      "1039\n"
     ]
    }
   ],
   "source": [
    "phi = 3\n",
    "e = 3\n",
    "\n",
    "#assure coprime to e\n",
    "while phi % e == 0:\n",
    "    p = random_prime(2**1024)\n",
    "    q = random_prime(2**1024)\n",
    "\n",
    "    n = p * q\n",
    "\n",
    "    phi = (p - 1)*(q - 1)\n",
    "\n",
    "e = 3\n",
    "\n",
    "d = pow(e, -1, phi)\n",
    "\n",
    "m = bytes_to_long(b\"Well hidden message!!!! Lorem ipsum \\\n",
    "   dolor sit amet, consectetur adipiscing elit, \\\n",
    "   sed do eiusmod tempor incididunt ut labore \")\n",
    "\n",
    "print(m.bit_length())\n",
    "\n",
    "c = pow(m, e, n)\n",
    "\n"
   ]
  },
  {
   "cell_type": "code",
   "execution_count": null,
   "id": "67f70ce7",
   "metadata": {},
   "outputs": [],
   "source": [
    "R.<x> = PolynomialRing(Integers(n))\n",
    "\n",
    "known = (m >> (m.bit_length() // 3)) * 2 ^ (m.bit_length() // 3)\n",
    "\n",
    "f_x = (known + x) ^ 3 - c\n",
    "\n",
    "a = f_x.coefficients()\n",
    "\n",
    "\n",
    "X = round(n ^ (1/3))\n",
    "\n",
    "\n",
    "B = matrix(ZZ, [\n",
    "    [n,         0,        0,   0],\n",
    "    [0,     n * X,        0,   0],\n",
    "    [0,         0,  n * X^2,   0],\n",
    "    [a[0], a[1]*X, a[2]*X^2, X^3]\n",
    "])\n",
    "\n",
    "\n",
    "print(B.LLL())\n",
    "\n",
    "coefs = B.rows()[0]\n",
    "ff_x = sum([coefs[i]*x^i//(X**i) for i in range(len(coefs))])\n",
    "\n",
    "print(ff_x.roots(multiplicities=False))\n",
    "\n",
    "\n",
    "\n"
   ]
  }
 ],
 "metadata": {
  "kernelspec": {
   "display_name": "SageMath 10.2",
   "language": "sage",
   "name": "sagemath"
  },
  "language_info": {
   "codemirror_mode": {
    "name": "ipython",
    "version": 3
   },
   "file_extension": ".py",
   "mimetype": "text/x-python",
   "name": "python",
   "nbconvert_exporter": "python",
   "pygments_lexer": "ipython3",
   "version": "3.9.2"
  }
 },
 "nbformat": 4,
 "nbformat_minor": 5
}
