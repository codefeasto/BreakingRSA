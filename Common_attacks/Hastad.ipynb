{
 "cells": [
  {
   "cell_type": "markdown",
   "id": "9f8c2d84",
   "metadata": {},
   "source": [
    "## Hastad's attack\n",
    "\n",
    "We know that a message $m$ has been encrypted using RSA keys of the form $\\langle e,N_i \\rangle$,  $k$ times.  \n",
    "\n",
    "Given that $k \\geq e$, we can recover $m^e$ (and consecutively $m$) by applying the Chinese Remainder Theorem (CRT) underlied by the following isomorphism:\n",
    "\n",
    "\n",
    "$ \\mathbb{Z}/N_1N_2...N_k\\mathbb{Z} \\cong \\mathbb{Z}/N_1\\mathbb{Z} \\times ... \\times \\mathbb{Z}/N_k\\mathbb{Z}$\n",
    "\n",
    "Note that we can assume that all N are coprime, since in case they shared a factor, we could recover $ p_i$ and $q_i$.\n",
    "\n",
    "https://en.wikipedia.org/wiki/Chinese_remainder_theorem#Using_the_existence_construction\n"
   ]
  },
  {
   "cell_type": "code",
   "execution_count": 1,
   "id": "5f95811a",
   "metadata": {},
   "outputs": [],
   "source": [
    "def bytes_to_long(bts):\n",
    "    return int(bts.hex(), base=16)\n",
    "\n",
    "def long_to_bytes(lng):\n",
    "    return bytes.fromhex(hex(lng)[2:])"
   ]
  },
  {
   "cell_type": "code",
   "execution_count": 16,
   "id": "80849b0a",
   "metadata": {},
   "outputs": [],
   "source": [
    "\n",
    "e = 3\n",
    "\n",
    "Ns = [ random_prime(2**1024) * random_prime(2**1024) for i in range(e)]\n",
    "\n",
    "\n",
    "\n",
    "m = bytes_to_long(b\"Well hidden message!!!! Lorem ipsum \\\n",
    "  dolor sit amet, consectetur adipiscing elit, \\\n",
    "  sed do eiusmod tempor incididunt ut labore \")\n",
    "\n",
    "Cts = [pow(m, e, n) for n in Ns]\n"
   ]
  },
  {
   "cell_type": "markdown",
   "id": "6d42d544",
   "metadata": {},
   "source": [
    "Reference crt implementations:  \n",
    "https://github.com/sympy/sympy/blob/master/sympy/polys/galoistools.py#L12  \n",
    "https://cp-algorithms.com/algebra/chinese-remainder-theorem.html  \n",
    "https://wiki.math.ntnu.no/_media/tma4155/2010h/euclid.pdf  \n",
    "\n",
    "\n",
    "Working mod $a$"
   ]
  },
  {
   "cell_type": "code",
   "execution_count": null,
   "id": "a231a073",
   "metadata": {},
   "outputs": [],
   "source": [
    "def xgcd(a, b):\n",
    "    \"\"\"\n",
    "    Implementation of the Extended Euclidean Algorithm\n",
    "    a, b -> integers\n",
    "    \"\"\"\n",
    "    \n",
    "    a1, b1 = a, b\n",
    "    x0, x1 = 1, 0\n",
    "    y0, y1 = 0, 1\n",
    "    \n",
    "    while b1 != 0:\n",
    "    \n",
    "        q = a1 // b1\n",
    "        x0, x1 = x1, x0 - q * x1\n",
    "        y0, y1 = y1, y0 - q * y1\n",
    "        a1, b1 = b1, a1 - q * b1\n",
    "    \n",
    "    return (x0, y0, a1)\n",
    "    \n",
    "    \n",
    "    \n",
    "\n",
    "\n",
    "def crt(r, m):\n",
    "    \"\"\"\n",
    "    Implementation of the Chinese Remainder Theorem\n",
    "    r -> list of residues\n",
    "    m -> list of modulos\n",
    "    \"\"\"\n",
    "    assert len(m) == len(r)\n",
    "    \n",
    "    \n",
    "    m1, r1 = m[0], r[0]\n",
    "    \n",
    "    for m2, r2 in zip(m[1:], r[1:]):\n",
    "        #note that the moduli are assumed to be coprime\n",
    "        a1, a2, _ = xgcd(m1, m2)\n",
    "        \n",
    "        \n",
    "        \"\"\"\n",
    "        mod m1, everything except r1 cancels out since:\n",
    "        a1*m1 + a2*m2 = 1\n",
    "        SImilarly, mod m2 everything except r2 cancels out proving that\n",
    "        this is a solution for (ri, r)\n",
    "        \"\"\"\n",
    "        \n",
    "        r1 = (r1 * a2 * m2 + r2 * a1 * m1) % (m1 * m2)\n",
    "        m1 *= m2\n",
    "        \n",
    "    return (r1, m1)\n",
    "        \n",
    "        "
   ]
  },
  {
   "cell_type": "markdown",
   "id": "b80b0d64",
   "metadata": {},
   "source": [
    "Notice that $a_1m_1 + a_2m_2 = 1$\n",
    "\n",
    "$ \\langle r_1,m_1 \\rangle$ is indeed a recursively produced solution since:  \n",
    "$r_1a_2m_2 + r_2a_1m_1 \\equiv r_1(1 - a_1m_1) + r_2a_1m_1 \\equiv r_1 \\mod m_1 $   \n",
    "\n",
    "Similarly,   $ r_1a_2m_2 + r_2a_1m_1 \\equiv r_2 \\mod m_2 $\n",
    "\n",
    "Having implemented CRT we can now recover $m$:"
   ]
  },
  {
   "cell_type": "code",
   "execution_count": null,
   "id": "81444fcd",
   "metadata": {},
   "outputs": [],
   "source": [
    "m_e, _ = crt(Cts, Ns)\n",
    "\n",
    "m = m_e.nth_root(3)\n",
    "\n",
    "print(long_to_bytes(m))\n"
   ]
  }
 ],
 "metadata": {
  "kernelspec": {
   "display_name": "SageMath 10.2",
   "language": "sage",
   "name": "sagemath"
  },
  "language_info": {
   "codemirror_mode": {
    "name": "ipython",
    "version": 3
   },
   "file_extension": ".py",
   "mimetype": "text/x-python",
   "name": "python",
   "nbconvert_exporter": "python",
   "pygments_lexer": "ipython3",
   "version": "3.9.2"
  }
 },
 "nbformat": 4,
 "nbformat_minor": 5
}
